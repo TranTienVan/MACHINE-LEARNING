{
 "cells": [
  {
   "cell_type": "code",
   "execution_count": 3,
   "metadata": {},
   "outputs": [],
   "source": [
    "from sklearn.ensemble import RandomForestClassifier\n",
    "from sklearn.datasets import make_moons\n",
    "from sklearn.model_selection import train_test_split\n",
    "import numpy as np\n",
    "import pandas as pd\n",
    "import matplotlib.pyplot as plt"
   ]
  },
  {
   "cell_type": "code",
   "execution_count": 5,
   "metadata": {},
   "outputs": [
    {
     "name": "stdout",
     "output_type": "stream",
     "text": [
      "First 5 of X : [[ 1.87756309  0.56839425]\n",
      " [ 0.36877983 -0.34894509]\n",
      " [ 0.96515318  0.10921819]\n",
      " [ 0.48599685  0.20291313]\n",
      " [ 1.72532644  0.53367598]]\n",
      "First 5 of y : [1 1 0 1 1]\n"
     ]
    },
    {
     "data": {
      "text/plain": [
       "RandomForestClassifier(n_estimators=5, random_state=2)"
      ]
     },
     "execution_count": 5,
     "metadata": {},
     "output_type": "execute_result"
    }
   ],
   "source": [
    "X, y = make_moons(n_samples = 100, noise = 0.25, random_state = 3)\n",
    "\n",
    "print(\"First 5 of X : {}\".format(X[:5]))\n",
    "print(\"First 5 of y : {}\".format(y[:5]))\n",
    "\n",
    "X_train, X_test, y_train, y_test = train_test_split(X, y, stratify = y, random_state = 42)\n",
    "forest = RandomForestClassifier(n_estimators = 5, random_state = 2)\n",
    "forest.fit(X_train, y_train)"
   ]
  }
 ],
 "metadata": {
  "interpreter": {
   "hash": "8a167f0d8c09617ce6ab6b94243987a491b92b1cdd211d268718eba61ae5a5e5"
  },
  "kernelspec": {
   "display_name": "Python 3.9.7 64-bit",
   "language": "python",
   "name": "python3"
  },
  "language_info": {
   "codemirror_mode": {
    "name": "ipython",
    "version": 3
   },
   "file_extension": ".py",
   "mimetype": "text/x-python",
   "name": "python",
   "nbconvert_exporter": "python",
   "pygments_lexer": "ipython3",
   "version": "3.9.7"
  },
  "orig_nbformat": 4
 },
 "nbformat": 4,
 "nbformat_minor": 2
}
