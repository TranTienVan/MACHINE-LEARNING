{
 "cells": [
  {
   "cell_type": "code",
   "execution_count": 10,
   "metadata": {},
   "outputs": [],
   "source": [
    "import numpy as np\n",
    "import pandas as pd\n",
    "import matplotlib.pyplot as plt\n",
    "from sklearn.linear_model import LogisticRegression\n",
    "from sklearn.svm import LinearSVC\n",
    "import mglearn\n",
    "from sklearn.datasets import make_blobs"
   ]
  },
  {
   "cell_type": "code",
   "execution_count": 15,
   "metadata": {},
   "outputs": [
    {
     "name": "stdout",
     "output_type": "stream",
     "text": [
      "X shape : (26, 2)\n",
      "X : [[ 9.96346605  4.59676542]\n",
      " [11.0329545  -0.16816717]\n",
      " [11.54155807  5.21116083]\n",
      " [ 8.69289001  1.54322016]\n",
      " [ 8.1062269   4.28695977]\n",
      " [ 8.30988863  4.80623966]\n",
      " [11.93027136  4.64866327]\n",
      " [ 9.67284681 -0.20283165]\n",
      " [ 8.34810316  5.13415623]\n",
      " [ 8.67494727  4.47573059]]\n",
      "y shape : (26,)\n",
      "y : [1 0 1 0 0 1 1 0 1 1 1 1 0 0 1 1 1 0 0 1 0 0 0 0 1 0]\n"
     ]
    }
   ],
   "source": [
    "X, y = mglearn.datasets.make_forge()\n",
    "\n",
    "print(\"X shape : {}\".format(X.shape))\n",
    "print(\"X : {}\".format(X[:10]))\n",
    "print(\"y shape : {}\".format(y.shape))\n",
    "print(\"y : {}\".format(y))"
   ]
  },
  {
   "cell_type": "code",
   "execution_count": 17,
   "metadata": {},
   "outputs": [
    {
     "name": "stdout",
     "output_type": "stream",
     "text": [
      "X shape : (26, 2)\n",
      "Intercept : [-1.15257683]\n",
      "Coefficient : [[-0.04172911  0.49179575]]\n",
      "\n",
      "Intercept : [-11.0975882]\n",
      "Coefficient : [[0.67289534 1.53136443]]\n",
      "\n"
     ]
    },
    {
     "name": "stderr",
     "output_type": "stream",
     "text": [
      "C:\\Users\\Among\\AppData\\Local\\Programs\\Python\\Python39\\lib\\site-packages\\sklearn\\svm\\_base.py:1206: ConvergenceWarning: Liblinear failed to converge, increase the number of iterations.\n",
      "  warnings.warn(\n"
     ]
    },
    {
     "data": {
      "text/plain": [
       "<matplotlib.legend.Legend at 0x1baf0bc77f0>"
      ]
     },
     "execution_count": 17,
     "metadata": {},
     "output_type": "execute_result"
    },
    {
     "data": {
      "image/png": "[encoded data removed]",
      "text/plain": [
       "<Figure size 720x216 with 2 Axes>"
      ]
     },
     "metadata": {},
     "output_type": "display_data"
    }
   ],
   "source": [
    "\n",
    "fig, axes = plt.subplots(1, 2, figsize = (10, 3))\n",
    "print(\"X shape : {}\".format(X.shape))\n",
    "\n",
    "def show(models):\n",
    "    print(\"Intercept : {}\".format(models.intercept_))\n",
    "    print(\"Coefficient : {}\".format(models.coef_))\n",
    "    print()\n",
    "for model, ax in zip([LinearSVC(), LogisticRegression()], axes):\n",
    "    clf = model.fit(X, y)\n",
    "    mglearn.plots.plot_2d_separator(clf, X, fill = False, eps = 0.5, ax = ax, alpha = 0.7)\n",
    "    mglearn.discrete_scatter(X[:, 0], X[:, 1], y, ax = ax)\n",
    "    show(clf)\n",
    "    ax.set_title(\"{}\".format(clf.__class__.__name__), color = \"white\")\n",
    "    ax.set_xlabel(\"Feature 0\", color = \"white\")\n",
    "    ax.set_ylabel(\"Feature 1\", color = \"white\")\n",
    "\n",
    "axes[0].legend()"
   ]
  }
 ],
 "metadata": {
  "interpreter": {
   "hash": "8a167f0d8c09617ce6ab6b94243987a491b92b1cdd211d268718eba61ae5a5e5"
  },
  "kernelspec": {
   "display_name": "Python 3.9.7 64-bit",
   "language": "python",
   "name": "python3"
  },
  "language_info": {
   "codemirror_mode": {
    "name": "ipython",
    "version": 3
   },
   "file_extension": ".py",
   "mimetype": "text/x-python",
   "name": "python",
   "nbconvert_exporter": "python",
   "pygments_lexer": "ipython3",
   "version": "3.9.7"
  },
  "orig_nbformat": 4
 },
 "nbformat": 4,
 "nbformat_minor": 2
}
