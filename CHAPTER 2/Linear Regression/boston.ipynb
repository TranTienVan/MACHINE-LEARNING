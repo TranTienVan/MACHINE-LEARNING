{
 "cells": [
  {
   "cell_type": "code",
   "execution_count": 1,
   "metadata": {},
   "outputs": [],
   "source": [
    "from sklearn.datasets import load_boston\n",
    "import numpy as np\n",
    "import pandas as pd\n",
    "import matplotlib.pyplot as plt\n",
    "import mglearn\n",
    "from sklearn.linear_model import LinearRegression\n",
    "from sklearn.model_selection import train_test_split\n",
    "from sklearn.linear_model import Lasso\n",
    "from sklearn.linear_model import Ridge"
   ]
  },
  {
   "cell_type": "code",
   "execution_count": 2,
   "metadata": {},
   "outputs": [
    {
     "name": "stderr",
     "output_type": "stream",
     "text": [
      "C:\\Users\\Among\\AppData\\Local\\Programs\\Python\\Python39\\lib\\site-packages\\sklearn\\utils\\deprecation.py:87: FutureWarning: Function load_boston is deprecated; `load_boston` is deprecated in 1.0 and will be removed in 1.2.\n",
      "\n",
      "    The Boston housing prices dataset has an ethical problem. You can refer to\n",
      "    the documentation of this function for further details.\n",
      "\n",
      "    The scikit-learn maintainers therefore strongly discourage the use of this\n",
      "    dataset unless the purpose of the code is to study and educate about\n",
      "    ethical issues in data science and machine learning.\n",
      "\n",
      "    In this special case, you can fetch the dataset from the original\n",
      "    source::\n",
      "\n",
      "        import pandas as pd\n",
      "        import numpy as np\n",
      "\n",
      "\n",
      "        data_url = \"http://lib.stat.cmu.edu/datasets/boston\"\n",
      "        raw_df = pd.read_csv(data_url, sep=\"\\s+\", skiprows=22, header=None)\n",
      "        data = np.hstack([raw_df.values[::2, :], raw_df.values[1::2, :2]])\n",
      "        target = raw_df.values[1::2, 2]\n",
      "\n",
      "    Alternative datasets include the California housing dataset (i.e.\n",
      "    :func:`~sklearn.datasets.fetch_california_housing`) and the Ames housing\n",
      "    dataset. You can load the datasets as follows::\n",
      "\n",
      "        from sklearn.datasets import fetch_california_housing\n",
      "        housing = fetch_california_housing()\n",
      "\n",
      "    for the California housing dataset and::\n",
      "\n",
      "        from sklearn.datasets import fetch_openml\n",
      "        housing = fetch_openml(name=\"house_prices\", as_frame=True)\n",
      "\n",
      "    for the Ames housing dataset.\n",
      "    \n",
      "  warnings.warn(msg, category=FutureWarning)\n"
     ]
    }
   ],
   "source": [
    "X, y = mglearn.datasets.load_extended_boston()\n",
    "# boston = load_boston()\n",
    "\n",
    "# print(\"Boston keys : {}\".format(boston.keys()))\n",
    "# print(\"Target shape : {}\".format(boston[\"target\"].shape))\n",
    "# print(\"Feature names : {}\".format(boston[\"feature_names\"]))\n",
    "# print(\"Data shape : {}\".format(boston[\"data\"].shape))\n",
    "# print(\"First 10 of data : {}\".format(boston[\"data\"][:10]))"
   ]
  },
  {
   "cell_type": "code",
   "execution_count": 3,
   "metadata": {},
   "outputs": [
    {
     "name": "stdout",
     "output_type": "stream",
     "text": [
      "First 5 of y_train : [18.5 19.6 33.2 13.1  7.5]\n",
      "Score training : 0.9520519609032727\n",
      "Score testing : 0.6074721959665943\n"
     ]
    }
   ],
   "source": [
    "X_train, X_test, y_train, y_test = train_test_split(X, y, random_state = 0)\n",
    "\n",
    "ln = LinearRegression().fit(X_train, y_train)\n",
    "\n",
    "print(\"First 5 of y_train : {}\".format(y_train[:5]))\n",
    "print(\"Score training : {}\".format(ln.score(X_train, y_train)))\n",
    "print(\"Score testing : {}\".format(ln.score(X_test, y_test)))"
   ]
  },
  {
   "cell_type": "code",
   "execution_count": 5,
   "metadata": {},
   "outputs": [
    {
     "name": "stdout",
     "output_type": "stream",
     "text": [
      "Score training -lasso- : 0.29323768991114607\n",
      "Score testing -lasso- : 0.20937503255272294\n",
      "Number of features -lasso- used : 4\n",
      "Intercept : 26.124530144985922\n",
      "\n",
      "Score training -lasso001 : 0.8962226511086497\n",
      "Score testing -lasso001 : 0.7656571174549982\n",
      "Number of features -lasso001 used : 33\n",
      "Intercept : 20.47637168564111\n",
      "\n",
      "Score training -lasso00001 : 0.9507158754515463\n",
      "Score testing -lasso00001 : 0.6437467421272821\n",
      "Number of features -lasso00001 used : 96\n",
      "Intercept : 8.54710387862557\n",
      "\n",
      "Score training -ridge01 : 0.9282273685001986\n",
      "Score testing -ridge01 : 0.7722067936479653\n",
      "Number of features -ridge01 used : 104\n",
      "Intercept : 11.119688524320411\n",
      "\n"
     ]
    },
    {
     "data": {
      "text/plain": [
       "Text(0, 0.5, 'Coefficient magnitude')"
      ]
     },
     "execution_count": 5,
     "metadata": {},
     "output_type": "execute_result"
    },
    {
     "data": {
      "image/png": "[encoded data removed]",
      "text/plain": [
       "<Figure size 432x288 with 1 Axes>"
      ]
     },
     "metadata": {
      "needs_background": "light"
     },
     "output_type": "display_data"
    }
   ],
   "source": [
    "lasso = Lasso().fit(X_train, y_train)\n",
    "lasso00001 = Lasso(alpha = 0.0001, max_iter = 100000).fit(X_train, y_train)\n",
    "lasso001 = Lasso(alpha = 0.01, max_iter = 100000).fit(X_train, y_train)\n",
    "ridge01 = Ridge(alpha = 0.1).fit(X_train, y_train)\n",
    "\n",
    "def show(models, name):\n",
    "    print(\"Score training {} : {}\".format(name, models.score(X_train, y_train)))\n",
    "    print(\"Score testing {} : {}\".format(name, models.score(X_test, y_test)))\n",
    "    print(\"Number of features {} used : {}\".format(name, np.sum(models.coef_ != 0)))\n",
    "    print(\"Intercept : {}\".format(models.intercept_))\n",
    "    print()\n",
    "\n",
    "show(lasso, \"-lasso-\")\n",
    "show(lasso001, \"-lasso001\")\n",
    "show(lasso00001, \"-lasso00001\")\n",
    "show(ridge01, \"-ridge01\")\n",
    "\n",
    "plt.plot(lasso.coef_, \"s\", label = \"Lasso alpha = 1\")\n",
    "plt.plot(lasso001.coef_, \"^\", label = \"Lasso alpha = 0.01\")\n",
    "plt.plot(lasso00001.coef_, \"v\", label = \"Lasso alpha = 0.0001\")\n",
    "plt.plot(ridge01.coef_, \"o\", label = \"Ridge alpha = 0.1\")\n",
    "\n",
    "plt.legend(ncol = 2, loc = (0, 1.05))\n",
    "plt.ylim(-25, 25)\n",
    "plt.xlabel(\"Coefficient index\")\n",
    "plt.ylabel(\"Coefficient magnitude\")"
   ]
  },
  {
   "cell_type": "code",
   "execution_count": null,
   "metadata": {},
   "outputs": [],
   "source": []
  }
 ],
 "metadata": {
  "interpreter": {
   "hash": "8a167f0d8c09617ce6ab6b94243987a491b92b1cdd211d268718eba61ae5a5e5"
  },
  "kernelspec": {
   "display_name": "Python 3.9.7 64-bit",
   "language": "python",
   "name": "python3"
  },
  "language_info": {
   "codemirror_mode": {
    "name": "ipython",
    "version": 3
   },
   "file_extension": ".py",
   "mimetype": "text/x-python",
   "name": "python",
   "nbconvert_exporter": "python",
   "pygments_lexer": "ipython3",
   "version": "3.9.7"
  },
  "orig_nbformat": 4
 },
 "nbformat": 4,
 "nbformat_minor": 2
}
