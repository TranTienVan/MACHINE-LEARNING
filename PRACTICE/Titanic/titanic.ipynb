{
 "cells": [
  {
   "cell_type": "code",
   "execution_count": 45,
   "metadata": {},
   "outputs": [],
   "source": [
    "import numpy as np\n",
    "import pandas as pd\n",
    "import matplotlib.pyplot as plt\n",
    "import mglearn\n",
    "from sklearn.preprocessing import MinMaxScaler\n",
    "from sklearn.preprocessing import OneHotEncoder\n",
    "from sklearn.ensemble import RandomForestClassifier\n",
    "from sklearn.model_selection import train_test_split"
   ]
  },
  {
   "cell_type": "code",
   "execution_count": 88,
   "metadata": {},
   "outputs": [
    {
     "name": "stdout",
     "output_type": "stream",
     "text": [
      "X_train shape : (891, 12)\n",
      "X_test shape : (418, 12)\n"
     ]
    }
   ],
   "source": [
    "X_train = pd.read_csv(\"train.csv\")\n",
    "X_test = pd.read_csv(\"test.csv\")\n",
    "y_test = pd.read_csv(\"gender_submission.csv\")\n",
    "X_test[\"Survived\"] = y_test.loc[:, [\"Survived\"]]\n",
    "\n",
    "print(\"X_train shape : {}\".format(X_train.shape))\n",
    "print(\"X_test shape : {}\".format(X_test.shape))\n",
    "\n"
   ]
  },
  {
   "cell_type": "code",
   "execution_count": 101,
   "metadata": {},
   "outputs": [
    {
     "name": "stdout",
     "output_type": "stream",
     "text": [
      "X_dummies shape : (270, 344)\n",
      "X_train shape : (202, 343)\n",
      "y_train shape : (202,)\n",
      "X_test shape : (68, 343)\n",
      "y_test shape : (68,)\n"
     ]
    }
   ],
   "source": [
    "\n",
    "data = pd.concat([X_train, X_test])\n",
    "data = data.dropna()\n",
    "names = data[\"Name\"]\n",
    "del data[\"Name\"]\n",
    "data_dummies = pd.get_dummies(data)\n",
    "\n",
    "print(\"X_dummies shape : {}\".format(data_dummies.shape))\n",
    "\n",
    "y = data_dummies[\"Survived\"]\n",
    "\n",
    "del data_dummies[\"Survived\"]\n",
    "\n",
    "X_train_dummies, X_test_dummies, y_train, y_test = train_test_split(data_dummies, y, random_state=0)\n",
    "\n",
    "print(\"X_train shape : {}\".format(X_train_dummies.shape))\n",
    "print(\"y_train shape : {}\".format(y_train.shape))\n",
    "print(\"X_test shape : {}\".format(X_test_dummies.shape))\n",
    "print(\"y_test shape : {}\".format(y_test.shape))"
   ]
  },
  {
   "cell_type": "code",
   "execution_count": 104,
   "metadata": {},
   "outputs": [
    {
     "name": "stdout",
     "output_type": "stream",
     "text": [
      "Train score : 0.9851485148514851\n",
      "Test score : 0.8382352941176471\n"
     ]
    }
   ],
   "source": [
    "forest = RandomForestClassifier(n_estimators=5, random_state = 0)\n",
    "forest.fit(X_train_dummies, y_train)\n",
    "\n",
    "print(\"Train score : {}\".format(forest.score(X_train_dummies, y_train)))\n",
    "print(\"Test score : {}\".format(forest.score(X_test_dummies, y_test)))\n"
   ]
  }
 ],
 "metadata": {
  "interpreter": {
   "hash": "8a167f0d8c09617ce6ab6b94243987a491b92b1cdd211d268718eba61ae5a5e5"
  },
  "kernelspec": {
   "display_name": "Python 3.9.7 64-bit",
   "language": "python",
   "name": "python3"
  },
  "language_info": {
   "codemirror_mode": {
    "name": "ipython",
    "version": 3
   },
   "file_extension": ".py",
   "mimetype": "text/x-python",
   "name": "python",
   "nbconvert_exporter": "python",
   "pygments_lexer": "ipython3",
   "version": "3.9.7"
  },
  "orig_nbformat": 4
 },
 "nbformat": 4,
 "nbformat_minor": 2
}
