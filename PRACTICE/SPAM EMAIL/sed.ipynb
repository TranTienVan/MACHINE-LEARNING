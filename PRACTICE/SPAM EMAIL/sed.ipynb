{
 "cells": [
  {
   "cell_type": "code",
   "execution_count": 50,
   "metadata": {},
   "outputs": [],
   "source": [
    "import numpy as np\n",
    "import pandas as pd\n",
    "import matplotlib.pyplot as plt\n",
    "import mglearn\n",
    "from sklearn.preprocessing import MinMaxScaler\n",
    "from sklearn.preprocessing import OneHotEncoder\n",
    "from sklearn.model_selection import train_test_split\n",
    "from sklearn.naive_bayes import GaussianNB"
   ]
  },
  {
   "cell_type": "code",
   "execution_count": 45,
   "metadata": {},
   "outputs": [
    {
     "name": "stdout",
     "output_type": "stream",
     "text": [
      "X : (4601, 57)\n",
      "y : (4601,)\n"
     ]
    }
   ],
   "source": [
    "sed = pd.read_csv(\"spambase.csv\")\n",
    "sed = sed.dropna()\n",
    "names_data = sed.columns[:len(sed.columns) - 1]\n",
    "name_target = sed.columns[-1]\n",
    "\n",
    "y = sed[[\"result\"]].to_numpy().ravel()\n",
    "X = sed.loc[range(0, len(sed)), [name for name in names_data]].to_numpy()\n",
    "print(\"X : {}\".format(X.shape))\n",
    "print(\"y : {}\".format(y.shape))\n",
    "\n"
   ]
  },
  {
   "cell_type": "code",
   "execution_count": 49,
   "metadata": {},
   "outputs": [
    {
     "name": "stdout",
     "output_type": "stream",
     "text": [
      "X_train_scaled : [[0.         0.         0.         ... 0.00170858 0.0020024  0.0030303 ]\n",
      " [0.         0.03711485 0.10392157 ... 0.00217885 0.00600721 0.01174242]\n",
      " [0.         0.         0.         ... 0.00116387 0.0020024  0.00555556]\n",
      " ...\n",
      " [0.         0.         0.         ... 0.0011094  0.00070084 0.00119949]\n",
      " [0.         0.         0.49019608 ... 0.00168588 0.0010012  0.00246212]\n",
      " [0.         0.         0.04705882 ... 0.00067181 0.00470565 0.00883838]]\n",
      "X_test_scaled : [[3.08370044e-02 9.80392157e-03 5.68627451e-02 ... 1.53064004e-03\n",
      "  7.20865038e-03 2.31691919e-02]\n",
      " [0.00000000e+00 0.00000000e+00 0.00000000e+00 ... 2.86609169e-03\n",
      "  1.20144173e-03 4.92424242e-03]\n",
      " [0.00000000e+00 0.00000000e+00 5.88235294e-01 ... 3.88561053e-04\n",
      "  2.00240288e-04 1.19949495e-03]\n",
      " ...\n",
      " [0.00000000e+00 0.00000000e+00 0.00000000e+00 ... 9.48706310e-04\n",
      "  5.00600721e-04 2.77777778e-03]\n",
      " [0.00000000e+00 0.00000000e+00 0.00000000e+00 ... 9.61416251e-04\n",
      "  2.40288346e-03 3.73737374e-02]\n",
      " [5.06607930e-02 0.00000000e+00 9.01960784e-02 ... 9.22378575e-04\n",
      "  1.80216260e-03 1.53409091e-02]]\n"
     ]
    }
   ],
   "source": [
    "X_train, X_test, y_train, y_test = train_test_split(X, y)\n",
    "\n",
    "scaler = MinMaxScaler()\n",
    "scaler.fit(X_train)\n",
    "\n",
    "X_train_scaled = scaler.transform(X_train)\n",
    "X_test_scaled = scaler.transform(X_test)\n",
    "\n",
    "print(\"X_train_scaled : {}\".format(X_train_scaled))\n",
    "print(\"X_test_scaled : {}\".format(X_test_scaled))"
   ]
  },
  {
   "cell_type": "code",
   "execution_count": 54,
   "metadata": {},
   "outputs": [
    {
     "name": "stdout",
     "output_type": "stream",
     "text": [
      "Score train : 0.8153623188405797\n",
      "Score test : 0.8158123370981755\n"
     ]
    }
   ],
   "source": [
    "gnb = GaussianNB()\n",
    "\n",
    "gnb.fit(X_train_scaled, y_train)\n",
    "\n",
    "print(\"Score train : {}\".format(gnb.score(X_train_scaled, y_train)))\n",
    "print(\"Score test : {}\".format(gnb.score(X_test_scaled, y_test)))\n"
   ]
  }
 ],
 "metadata": {
  "interpreter": {
   "hash": "8a167f0d8c09617ce6ab6b94243987a491b92b1cdd211d268718eba61ae5a5e5"
  },
  "kernelspec": {
   "display_name": "Python 3.9.7 64-bit",
   "language": "python",
   "name": "python3"
  },
  "language_info": {
   "codemirror_mode": {
    "name": "ipython",
    "version": 3
   },
   "file_extension": ".py",
   "mimetype": "text/x-python",
   "name": "python",
   "nbconvert_exporter": "python",
   "pygments_lexer": "ipython3",
   "version": "3.9.7"
  },
  "orig_nbformat": 4
 },
 "nbformat": 4,
 "nbformat_minor": 2
}
