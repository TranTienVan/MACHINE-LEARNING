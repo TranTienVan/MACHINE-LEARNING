{
 "cells": [
  {
   "cell_type": "code",
   "execution_count": null,
   "id": "0a91b22c",
   "metadata": {},
   "outputs": [],
   "source": [
    "# Overview\n",
    "# You will write several functions for our dataset.\n",
    "\n",
    "# You will be asked to implement a number of functions that altogether can do naive k-means clustering. K-means clustering is available as a built-in routine or functionality provided by external libraries in both R and Python. However, here, instead of relying on these pre-existing tools, we will write our own solution to help illuminate the workings of one of the most basic unsupervised machine learning algorithms and how it can be applied to real world data.\n",
    "\n",
    "# As our dataset you will be analysing Airbnb listings in Dublin (from 7 November 2021). This data was collected by Inside Airbnb, independent project to assess the impact of Airbnb platform on urban living.\n",
    "\n",
    "# You can use either Python or R to implement your solutions. Solutions that mix Python and R code (either within one part or across parts) will not be accepted.\n",
    "\n",
    "# Keep your functions simple and streamlined. Do not 'overengineer' your solutions (especially when implementing k-means algorithm). Do not use external libraries other than those specified for each part."
   ]
  },
  {
   "cell_type": "code",
   "execution_count": null,
   "id": "bd226528",
   "metadata": {
    "slideshow": {
     "slide_type": "slide"
    }
   },
   "outputs": [],
   "source": [
    "# Write a function called get_distance that finds the Euclidean distance between two points.\n",
    "\n",
    "# Function takes 2 arguments:\n",
    "\n",
    "# p - sequence of first point's coordinates (in n dimensions)\n",
    "# q - sequence of second point's coordinates (in n dimensions)\n",
    "# Function returns 1 object:\n",
    "\n",
    "# dist - floating-point value representing the Euclidean distance between the input points\n",
    "# Example input → output:\n",
    "\n",
    "# [5,1,3,12,7]  and  [10,8,3,9,11]  →  9.9499 \n",
    "\n",
    "# External libraries:None"
   ]
  },
  {
   "cell_type": "code",
   "execution_count": null,
   "id": "1881a2bf",
   "metadata": {
    "slideshow": {
     "slide_type": "fragment"
    }
   },
   "outputs": [],
   "source": [
    "# Part 1:\n",
    "\n",
    "# Your code goes here"
   ]
  },
  {
   "cell_type": "code",
   "execution_count": null,
   "id": "ff086a3e",
   "metadata": {},
   "outputs": [],
   "source": [
    "Write a function called get_centroid that finds the centroid of multiple points in n dimensions. The function should take some sequence (e.g. list in Python or R) as an input and return the centroid of these points.\n",
    "\n",
    "Function takes 1 argument:\n",
    "\n",
    "points - sequence of points' coordinates (in n dimensions)\n",
    "Function returns 1 object:\n",
    "\n",
    "centroid - sequence of centroid's coordinates (in n dimensions)\n",
    "Example input → output:\n",
    "\n",
    "[[0,1,2,3,4],[5,6,7,8,9]]  →  [2.5,3.5,4.5,5.5,6.5] \n",
    "\n",
    "External libraries:None"
   ]
  },
  {
   "cell_type": "code",
   "execution_count": null,
   "id": "49dcf9c3",
   "metadata": {
    "slideshow": {
     "slide_type": "fragment"
    }
   },
   "outputs": [],
   "source": [
    "# Part 2:\n",
    "\n",
    "# Your code goes here"
   ]
  },
  {
   "cell_type": "code",
   "execution_count": null,
   "id": "d154a4e9",
   "metadata": {},
   "outputs": [],
   "source": [
    "Write that a function called k_means that implements K-means algorithm. The general functioning of the algorithms is as follows:\n",
    "\n",
    "A random set of k points are picked as cluster centroids\n",
    "The distance between each input point and each centroid is calculated (use get_distance() function from above)\n",
    "Each point is assigned to a cluster, whose centroid is the closest\n",
    "New cluster centroids are calculated (use get_centroid() function from above)\n",
    "Repeat until convergence (stopping rule)\n",
    "Stopping rule can be implemented in 2 different ways:\n",
    "Cluster assignments stop changing\n",
    "Manually specified number of iterations (optionally exposed as an argument)\n",
    "Function takes 2 arguments:\n",
    "\n",
    "points - sequence of points' coordinates (in n dimensions)\n",
    "k - number of clusters\n",
    "Function returns 1 object:\n",
    "\n",
    "clusters - sequence of points' assignments to clusters (the order should correspond to the order of points' coordinates in the input sequence)\n",
    "Print out:\n",
    "\n",
    "centroids - coordinates of final centroids after algorithm's convergence\n",
    "Example input → output:\n",
    "\n",
    "[[0,1,2,3,4],[1,2,3,4,5],[5,6,7,8,9]]  and  2  →  [1,1,2]  or  [2,2,1] \n",
    "(output cluster numbers in Python could also be  [0,0,1]  or  [1,1,0] )\n",
    "\n",
    "Centroids:  [[0.5,1.5,2.5,3.5,4.5],[5.0,6.0,7.0,8.0,9.0]] \n",
    "External libraries:\n",
    "\n",
    "None for R\n",
    "sample() method from random built-in module for Python to initialize the first random centroids"
   ]
  },
  {
   "cell_type": "code",
   "execution_count": null,
   "id": "3097e3a5",
   "metadata": {
    "slideshow": {
     "slide_type": "fragment"
    }
   },
   "outputs": [],
   "source": [
    "# Part 3:\n",
    "\n",
    "# Your code goes here"
   ]
  },
  {
   "cell_type": "code",
   "execution_count": null,
   "id": "d77af1c0",
   "metadata": {},
   "outputs": [],
   "source": [
    "Load the Airbnb Dublin dataset by reading it in directly the 2 URL below. Use module website as the default option for obtaining the dataset, as data on Inside Airbnb might is subject to potential updates.\n",
    "\n",
    "http://data.insideairbnb.com/ireland/leinster/dublin/2021-11-07/data/listings.csv.gz\n",
    "Apply k_means() function implemented above to listings' coordinates (stored in columns 'longitude' and 'latitude') of the Airbnb Dublin dataset. Fit the algorithm with  𝑘=3  and  𝑘=5  settings.\n",
    "\n",
    "For replication purposes set the seed before running k_means() function as the initial random centroid selection can affect your results.\n",
    "In Python use random.seed(2021) from random module\n",
    "In R use set.seed(2021) available as built-in function\n",
    "How many listings fall into each cluster?\n",
    "\n",
    "Use online map to position the geographic locations of centroids. Where in Dublin are they, roughly, located?\n",
    "\n",
    "Add 2 new columns to the dataset with cluster assignments (for 3 and 5 clusters) for each listing.\n",
    "\n",
    "Save the updated dataset as a CSV file on your local machine.\n",
    "\n",
    "External libraries:\n",
    "\n",
    "Optionally, readr for R\n",
    "pandas for Python"
   ]
  },
  {
   "cell_type": "code",
   "execution_count": null,
   "id": "ebc2be26",
   "metadata": {
    "slideshow": {
     "slide_type": "fragment"
    }
   },
   "outputs": [],
   "source": [
    "# Part 4:\n",
    "\n",
    "# Your code goes here"
   ]
  },
  {
   "cell_type": "code",
   "execution_count": null,
   "id": "68588e1a",
   "metadata": {},
   "outputs": [],
   "source": [
    "Load the the Airbnb Dublin dataset as a CSV file from your local machine.\n",
    "Calculate median and mean prices by each cluster (column 'price'). Do you find any difference between the two masures?\n",
    "Count number of different types of accommodation by each cluster (column 'room_type'). Are there any differences across clusters?\n",
    "Extra: try plotting the positions of listings (using longitude as x-axis and latitude as y-axis) and colouring the points by cluster assignment.\n",
    "External libraries:\n",
    "\n",
    "Optionally, readr, dplyr, stringr for R (+ggplot2 for plotting)\n",
    "pandas, optionally, regex for Python (+ matplotlib, seaborn, plotnine for plotting)"
   ]
  },
  {
   "cell_type": "code",
   "execution_count": null,
   "id": "df7f1d24",
   "metadata": {
    "slideshow": {
     "slide_type": "fragment"
    }
   },
   "outputs": [],
   "source": [
    "# Part 5:\n",
    "\n",
    "# Your code goes here"
   ]
  }
 ],
 "metadata": {
  "celltoolbar": "Slideshow",
  "kernelspec": {
   "display_name": "Python 3",
   "language": "python",
   "name": "python3"
  },
  "language_info": {
   "codemirror_mode": {
    "name": "ipython",
    "version": 3
   },
   "file_extension": ".py",
   "mimetype": "text/x-python",
   "name": "python",
   "nbconvert_exporter": "python",
   "pygments_lexer": "ipython3",
   "version": "3.8.8"
  }
 },
 "nbformat": 4,
 "nbformat_minor": 5
}
